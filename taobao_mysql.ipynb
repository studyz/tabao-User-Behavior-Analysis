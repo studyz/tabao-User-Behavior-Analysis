{
 "cells": [
  {
   "cell_type": "markdown",
   "id": "6dd54b5d-2b8e-4126-8f0d-5ccb8dafe105",
   "metadata": {},
   "source": [
    "# 数据信息"
   ]
  },
  {
   "cell_type": "markdown",
   "id": "a06a90dc-0bad-4465-a471-1fd20d64ed4b",
   "metadata": {},
   "source": [
    "数据来源：[淘宝用户行为](https://tianchi.aliyun.com/dataset/649)  \n",
    "UserBehavior.csv  \n",
    "We random select about 1 million users who have behaviors including click, purchase, adding item to shopping cart and item favoring during **November 25 to December 03, 2017**. The dataset is organized in a very similar form to MovieLens-20M, i.e., each line represents a specific user-item interaction, which consists of **user ID, item ID, item's category ID, behavior type and timestamp**, separated by commas. The detailed descriptions of each field are as follows:\n",
    "\n",
    "| Field         | Explanation                                                                                          |\n",
    "|---------------|------------------------------------------------------------------------------------------------------|\n",
    "| User ID       | An integer, the serialized ID that represents a user                                                 |\n",
    "| Item ID       | An integer, the serialized ID that represents an item                                                |\n",
    "| Category ID   | An integer, the serialized ID that represents the category to which the corresponding item belongs   |\n",
    "| Behavior type | A string, enum-type from ('pv', 'buy', 'cart', 'fav')                                                |\n",
    "| Timestamp     | An integer, the timestamp of the behavior                                                            |\n",
    "\n",
    "Note that the dataset contains 4 different types of behaviors, they are：\n",
    "| Behavior | Explanation                                    |\n",
    "|----------|------------------------------------------------|\n",
    "| pv       | Page view of an item's detail page, equivalent to an item click |\n",
    "| buy      | Purchase an item                               |\n",
    "| cart     | Add an item to shopping cart                    |\n",
    "| fav      | Favor an item                                  |\n",
    "\n",
    "Dimensions of the dataset are：\n",
    "| Dimension        | Number        |\n",
    "|------------------|---------------|\n",
    "| # of users       | 987,994       |\n",
    "| # of items       | 4,162,024     |\n",
    "| # of categories  | 9,439         |\n",
    "| # of interactions| 100,150,807   |"
   ]
  },
  {
   "cell_type": "markdown",
   "id": "6cb54210-d438-4452-bf11-98f87dd62dff",
   "metadata": {},
   "source": [
    "1. 数据清洗和预处理\n",
    "- 处理缺失值：首先检查数据集中是否有缺失值。对于用户ID、物品ID、类别ID、行为类型和时间戳，任何一个字段的缺失都可能影响分析结果。可以使用填充（如平均值、中位数或众数）或删除含有缺失值的记录的方法来处理。\n",
    "- 异常值检测：使用箱线图或其他统计方法来识别和处理异常值。异常值可能是由于数据录入错误或其他非典型行为造成的。\n",
    "- 处理重复记录：检查数据集中是否存在重复的记录。重复的记录可能会导致分析结果的偏差。可以使用数据去重的方法来删除重复项。\n",
    "- 数据格式统一：确保所有的字段都遵循相同的数据类型和格式。例如，时间戳应该统一为日期时间格式，行为类型应该全部小写等。\n",
    " \n",
    "2. 统计分析  \n",
    "\n",
    "在数据清洗和预处理之后，可以使用以下统计分析方法来识别数据中的模式和趋势：\n",
    "- 描述性统计量：计算用户的活动频率、物品的购买次数、各类别的受欢迎程度等基本统计量，如均值、中位数、标准差、最小值和最大值。\n",
    "- 假设检验：使用t检验或ANOVA来比较不同用户群体或物品类别之间的行为差异是否显著。\n",
    "- 相关性分析：探索用户行为与时间戳、物品类别等变量之间的关系。例如，分析用户购买行为与时间段的关系。\n",
    "- 回归分析：建立预测模型来预测用户的购买概率或物品的受欢迎程度。\n",
    " \n",
    "3. 高级分析技术  \n",
    "\n",
    "为了揭示数据的深层次信息，可以应用以下高级分析技术：\n",
    "- 时间序列分析：分析用户行为随时间的变化趋势，预测未来的用户行为模式。\n",
    "- 聚类分析：将用户或物品分为不同的群组，根据他们的行为模式或特征进行分类。\n",
    "- 主成分分析（PCA）：降维以识别影响用户行为的主要因素。\n",
    " \n",
    "4. 见解和建议\n",
    "\n",
    "根据分析结果，可以提出以下见解和建议：\n",
    "\n",
    "- 提高销售额：针对购买频率高的用户群体，提供个性化的促销活动和优惠。\n",
    "- 优化客户体验：分析用户在购物车中添加但不购买的物品，改进产品描述和图片，提供更好的购物体验。\n",
    "- 预测市场动向：通过时间序列分析，预测哪些类别的物品可能会在未来流行，从而提前准备库存和营销策略。\n",
    " \n",
    "5. 分析报告\n",
    "\n",
    "最后，准备一份详细的分析报告，包括以下内容：\n",
    "\n",
    "- 数据清洗和预处理的步骤：详细说明如何处理缺失值、异常值、重复记录和数据格式统一。\n",
    "- 分析方法的选择和应用：解释为什么选择特定的统计方法和技术，并描述如何应用它们。\n",
    "- 关键发现：总结分析过程中发现的最重要的模式和趋势。\n",
    "- 基于发现的建议：提供具体的行动方案，以及预期的结果和效益。"
   ]
  },
  {
   "cell_type": "code",
   "execution_count": 3,
   "id": "6cdf5060-ccc0-487d-983c-9da608fe9853",
   "metadata": {
    "tags": []
   },
   "outputs": [],
   "source": [
    "import datetime\n",
    "import pandas as pd\n",
    "import seaborn as sns\n",
    "import matplotlib.pyplot as plt"
   ]
  },
  {
   "cell_type": "markdown",
   "id": "e17a8804-6cdf-41db-a44a-ddbda340defa",
   "metadata": {},
   "source": [
    "# Python连接MySQL数据库\n",
    "练习从mysql数据库获取数据，与本notebook关系不大，数据获取的来源不同，可直接略过"
   ]
  },
  {
   "cell_type": "code",
   "execution_count": 4,
   "id": "d81bb306-9339-48bc-85f5-9f405de9ffc8",
   "metadata": {},
   "outputs": [
    {
     "data": {
      "text/html": [
       "<div>\n",
       "<style scoped>\n",
       "    .dataframe tbody tr th:only-of-type {\n",
       "        vertical-align: middle;\n",
       "    }\n",
       "\n",
       "    .dataframe tbody tr th {\n",
       "        vertical-align: top;\n",
       "    }\n",
       "\n",
       "    .dataframe thead th {\n",
       "        text-align: right;\n",
       "    }\n",
       "</style>\n",
       "<table border=\"1\" class=\"dataframe\">\n",
       "  <thead>\n",
       "    <tr style=\"text-align: right;\">\n",
       "      <th></th>\n",
       "      <th>count(*)</th>\n",
       "    </tr>\n",
       "  </thead>\n",
       "  <tbody>\n",
       "    <tr>\n",
       "      <th>0</th>\n",
       "      <td>12270641</td>\n",
       "    </tr>\n",
       "  </tbody>\n",
       "</table>\n",
       "</div>"
      ],
      "text/plain": [
       "   count(*)\n",
       "0  12270641"
      ]
     },
     "execution_count": 4,
     "metadata": {},
     "output_type": "execute_result"
    }
   ],
   "source": [
    "import db\n",
    "table_name = 'UserBehavior'\n",
    "query_count = f'select count(*) from {table_name}'\n",
    "pd.DataFrame(db.query_data(query_count))\n",
    "# db.get_table_row_count(table_name)"
   ]
  },
  {
   "cell_type": "code",
   "execution_count": 5,
   "id": "f381fa6d-86a9-4b76-b9a4-c651e55b1179",
   "metadata": {},
   "outputs": [
    {
     "data": {
      "text/html": [
       "<div>\n",
       "<style scoped>\n",
       "    .dataframe tbody tr th:only-of-type {\n",
       "        vertical-align: middle;\n",
       "    }\n",
       "\n",
       "    .dataframe tbody tr th {\n",
       "        vertical-align: top;\n",
       "    }\n",
       "\n",
       "    .dataframe thead th {\n",
       "        text-align: right;\n",
       "    }\n",
       "</style>\n",
       "<table border=\"1\" class=\"dataframe\">\n",
       "  <thead>\n",
       "    <tr style=\"text-align: right;\">\n",
       "      <th></th>\n",
       "      <th>Field</th>\n",
       "      <th>Type</th>\n",
       "      <th>Null</th>\n",
       "      <th>Key</th>\n",
       "      <th>Default</th>\n",
       "      <th>Extra</th>\n",
       "    </tr>\n",
       "  </thead>\n",
       "  <tbody>\n",
       "    <tr>\n",
       "      <th>0</th>\n",
       "      <td>User_Id</td>\n",
       "      <td>int</td>\n",
       "      <td>NO</td>\n",
       "      <td>PRI</td>\n",
       "      <td>None</td>\n",
       "      <td></td>\n",
       "    </tr>\n",
       "    <tr>\n",
       "      <th>1</th>\n",
       "      <td>Item_Id</td>\n",
       "      <td>int</td>\n",
       "      <td>NO</td>\n",
       "      <td>PRI</td>\n",
       "      <td>None</td>\n",
       "      <td></td>\n",
       "    </tr>\n",
       "    <tr>\n",
       "      <th>2</th>\n",
       "      <td>Category_Id</td>\n",
       "      <td>int</td>\n",
       "      <td>NO</td>\n",
       "      <td>PRI</td>\n",
       "      <td>None</td>\n",
       "      <td></td>\n",
       "    </tr>\n",
       "    <tr>\n",
       "      <th>3</th>\n",
       "      <td>Behavior_type</td>\n",
       "      <td>varchar(50)</td>\n",
       "      <td>NO</td>\n",
       "      <td>PRI</td>\n",
       "      <td>None</td>\n",
       "      <td></td>\n",
       "    </tr>\n",
       "    <tr>\n",
       "      <th>4</th>\n",
       "      <td>Timestamp</td>\n",
       "      <td>bigint</td>\n",
       "      <td>NO</td>\n",
       "      <td>PRI</td>\n",
       "      <td>None</td>\n",
       "      <td></td>\n",
       "    </tr>\n",
       "  </tbody>\n",
       "</table>\n",
       "</div>"
      ],
      "text/plain": [
       "           Field         Type Null  Key Default Extra\n",
       "0        User_Id          int   NO  PRI    None      \n",
       "1        Item_Id          int   NO  PRI    None      \n",
       "2    Category_Id          int   NO  PRI    None      \n",
       "3  Behavior_type  varchar(50)   NO  PRI    None      \n",
       "4      Timestamp       bigint   NO  PRI    None      "
      ]
     },
     "execution_count": 5,
     "metadata": {},
     "output_type": "execute_result"
    }
   ],
   "source": [
    "# 执行查询表的列名的SQL语句\n",
    "query_col = f'SHOW COLUMNS FROM {table_name};'\n",
    "pd.DataFrame(db.query_data(query_col))"
   ]
  },
  {
   "cell_type": "code",
   "execution_count": 6,
   "id": "5dcc0817-e3b3-4a63-bc4b-4ae182b53c3c",
   "metadata": {},
   "outputs": [
    {
     "data": {
      "text/html": [
       "<div>\n",
       "<style scoped>\n",
       "    .dataframe tbody tr th:only-of-type {\n",
       "        vertical-align: middle;\n",
       "    }\n",
       "\n",
       "    .dataframe tbody tr th {\n",
       "        vertical-align: top;\n",
       "    }\n",
       "\n",
       "    .dataframe thead th {\n",
       "        text-align: right;\n",
       "    }\n",
       "</style>\n",
       "<table border=\"1\" class=\"dataframe\">\n",
       "  <thead>\n",
       "    <tr style=\"text-align: right;\">\n",
       "      <th></th>\n",
       "      <th>Behavior_type</th>\n",
       "    </tr>\n",
       "  </thead>\n",
       "  <tbody>\n",
       "    <tr>\n",
       "      <th>0</th>\n",
       "      <td>pv</td>\n",
       "    </tr>\n",
       "    <tr>\n",
       "      <th>1</th>\n",
       "      <td>cart</td>\n",
       "    </tr>\n",
       "    <tr>\n",
       "      <th>2</th>\n",
       "      <td>fav</td>\n",
       "    </tr>\n",
       "    <tr>\n",
       "      <th>3</th>\n",
       "      <td>buy</td>\n",
       "    </tr>\n",
       "  </tbody>\n",
       "</table>\n",
       "</div>"
      ],
      "text/plain": [
       "  Behavior_type\n",
       "0            pv\n",
       "1          cart\n",
       "2           fav\n",
       "3           buy"
      ]
     },
     "execution_count": 6,
     "metadata": {},
     "output_type": "execute_result"
    }
   ],
   "source": [
    "query_type = f'select distinct(Behavior_type) from {table_name}'\n",
    "pd.DataFrame(db.query_data(query_type))"
   ]
  },
  {
   "cell_type": "code",
   "execution_count": 7,
   "id": "359a2ffa-a1c1-46eb-801c-3ba8370d2e6c",
   "metadata": {},
   "outputs": [],
   "source": [
    "# 保存csv文件\n",
    "csv_file_name = table_name + '.csv'\n",
    "db.save_table_to_csv(table_name,csv_file_name)"
   ]
  },
  {
   "cell_type": "markdown",
   "id": "19989cba-33fb-45a8-9af4-59eaccaa6ac0",
   "metadata": {},
   "source": [
    "# 读取csv，开始项目"
   ]
  },
  {
   "cell_type": "code",
   "execution_count": 3,
   "id": "069cd28d-ff24-4975-aa92-571ae7871692",
   "metadata": {},
   "outputs": [],
   "source": [
    "# 读取csv文件，添加列名，改变dtype，进行数据压缩\n",
    "raw_df = pd.read_csv('./UserBehavior.csv', names=['user_id', 'item_id', 'category_id', 'behavior_type', 'timestamp'], \n",
    "                     dtype={'user_id': 'int32', \n",
    "                            'item_id': 'int32', \n",
    "                            'category_id': 'int32',\n",
    "                           'behavior_type':'category'})"
   ]
  },
  {
   "cell_type": "code",
   "execution_count": 4,
   "id": "e714d9f4-07c9-4cd0-8523-1880ba9c2e8e",
   "metadata": {},
   "outputs": [],
   "source": [
    "# 将 timestamp 列转换为日期时间格式\n",
    "raw_df['timestamp'] = pd.to_datetime(raw_df['timestamp'], unit='s')"
   ]
  },
  {
   "cell_type": "code",
   "execution_count": 5,
   "id": "e134fed6-5ad4-4fb7-8f8c-830711a31d6b",
   "metadata": {},
   "outputs": [
    {
     "name": "stdout",
     "output_type": "stream",
     "text": [
      "<class 'pandas.core.frame.DataFrame'>\n",
      "RangeIndex: 100150807 entries, 0 to 100150806\n",
      "Data columns (total 5 columns):\n",
      " #   Column         Dtype         \n",
      "---  ------         -----         \n",
      " 0   user_id        int32         \n",
      " 1   item_id        int32         \n",
      " 2   category_id    int32         \n",
      " 3   behavior_type  category      \n",
      " 4   timestamp      datetime64[ns]\n",
      "dtypes: category(1), datetime64[ns](1), int32(3)\n",
      "memory usage: 2.0 GB\n"
     ]
    },
    {
     "data": {
      "text/plain": [
       "None"
      ]
     },
     "metadata": {},
     "output_type": "display_data"
    }
   ],
   "source": [
    "display(raw_df.info())"
   ]
  },
  {
   "cell_type": "code",
   "execution_count": 6,
   "id": "f602624a-7e90-4ddd-9f8a-d24f190ec6fa",
   "metadata": {},
   "outputs": [
    {
     "name": "stdout",
     "output_type": "stream",
     "text": [
      "(100150807, 5)\n",
      "['user_id', 'item_id', 'category_id', 'behavior_type', 'timestamp']\n"
     ]
    }
   ],
   "source": [
    "# 查看数据形状\n",
    "print(raw_df.shape)\n",
    "\n",
    "# 查看列名\n",
    "print(list(raw_df.columns))"
   ]
  },
  {
   "cell_type": "code",
   "execution_count": 7,
   "id": "288a7142-68b9-43b5-a295-e1e89decb52b",
   "metadata": {},
   "outputs": [
    {
     "data": {
      "text/html": [
       "<div>\n",
       "<style scoped>\n",
       "    .dataframe tbody tr th:only-of-type {\n",
       "        vertical-align: middle;\n",
       "    }\n",
       "\n",
       "    .dataframe tbody tr th {\n",
       "        vertical-align: top;\n",
       "    }\n",
       "\n",
       "    .dataframe thead th {\n",
       "        text-align: right;\n",
       "    }\n",
       "</style>\n",
       "<table border=\"1\" class=\"dataframe\">\n",
       "  <thead>\n",
       "    <tr style=\"text-align: right;\">\n",
       "      <th></th>\n",
       "      <th>user_id</th>\n",
       "      <th>item_id</th>\n",
       "      <th>category_id</th>\n",
       "      <th>timestamp</th>\n",
       "    </tr>\n",
       "  </thead>\n",
       "  <tbody>\n",
       "    <tr>\n",
       "      <th>count</th>\n",
       "      <td>1.001508e+08</td>\n",
       "      <td>1.001508e+08</td>\n",
       "      <td>1.001508e+08</td>\n",
       "      <td>100150807</td>\n",
       "    </tr>\n",
       "    <tr>\n",
       "      <th>mean</th>\n",
       "      <td>5.069431e+05</td>\n",
       "      <td>2.579775e+06</td>\n",
       "      <td>2.696380e+06</td>\n",
       "      <td>2017-11-29 10:27:56.872216320</td>\n",
       "    </tr>\n",
       "    <tr>\n",
       "      <th>min</th>\n",
       "      <td>1.000000e+00</td>\n",
       "      <td>1.000000e+00</td>\n",
       "      <td>8.000000e+01</td>\n",
       "      <td>1902-05-07 22:32:46</td>\n",
       "    </tr>\n",
       "    <tr>\n",
       "      <th>25%</th>\n",
       "      <td>2.524290e+05</td>\n",
       "      <td>1.295225e+06</td>\n",
       "      <td>1.320293e+06</td>\n",
       "      <td>2017-11-27 05:50:43</td>\n",
       "    </tr>\n",
       "    <tr>\n",
       "      <th>50%</th>\n",
       "      <td>5.040150e+05</td>\n",
       "      <td>2.580735e+06</td>\n",
       "      <td>2.671397e+06</td>\n",
       "      <td>2017-11-29 14:09:56</td>\n",
       "    </tr>\n",
       "    <tr>\n",
       "      <th>75%</th>\n",
       "      <td>7.609490e+05</td>\n",
       "      <td>3.862042e+06</td>\n",
       "      <td>4.145813e+06</td>\n",
       "      <td>2017-12-02 01:44:42</td>\n",
       "    </tr>\n",
       "    <tr>\n",
       "      <th>max</th>\n",
       "      <td>1.018011e+06</td>\n",
       "      <td>5.163070e+06</td>\n",
       "      <td>5.162429e+06</td>\n",
       "      <td>2037-04-09 05:22:35</td>\n",
       "    </tr>\n",
       "    <tr>\n",
       "      <th>std</th>\n",
       "      <td>2.940605e+05</td>\n",
       "      <td>1.488056e+06</td>\n",
       "      <td>1.463155e+06</td>\n",
       "      <td>NaN</td>\n",
       "    </tr>\n",
       "  </tbody>\n",
       "</table>\n",
       "</div>"
      ],
      "text/plain": [
       "            user_id       item_id   category_id                      timestamp\n",
       "count  1.001508e+08  1.001508e+08  1.001508e+08                      100150807\n",
       "mean   5.069431e+05  2.579775e+06  2.696380e+06  2017-11-29 10:27:56.872216320\n",
       "min    1.000000e+00  1.000000e+00  8.000000e+01            1902-05-07 22:32:46\n",
       "25%    2.524290e+05  1.295225e+06  1.320293e+06            2017-11-27 05:50:43\n",
       "50%    5.040150e+05  2.580735e+06  2.671397e+06            2017-11-29 14:09:56\n",
       "75%    7.609490e+05  3.862042e+06  4.145813e+06            2017-12-02 01:44:42\n",
       "max    1.018011e+06  5.163070e+06  5.162429e+06            2037-04-09 05:22:35\n",
       "std    2.940605e+05  1.488056e+06  1.463155e+06                            NaN"
      ]
     },
     "execution_count": 7,
     "metadata": {},
     "output_type": "execute_result"
    }
   ],
   "source": [
    "# 查看描述性统计信息\n",
    "raw_df.describe()"
   ]
  },
  {
   "cell_type": "markdown",
   "id": "260a4c39-919e-408f-8567-7c268ed23689",
   "metadata": {},
   "source": [
    "# 数据清洗"
   ]
  },
  {
   "cell_type": "code",
   "execution_count": 8,
   "id": "36290991-d881-4f65-92a0-46659a20bc3e",
   "metadata": {},
   "outputs": [
    {
     "data": {
      "text/plain": [
       "user_id          0\n",
       "item_id          0\n",
       "category_id      0\n",
       "behavior_type    0\n",
       "timestamp        0\n",
       "dtype: int64"
      ]
     },
     "execution_count": 8,
     "metadata": {},
     "output_type": "execute_result"
    }
   ],
   "source": [
    "#缺失值处理\n",
    "raw_df.isnull().sum()"
   ]
  },
  {
   "cell_type": "code",
   "execution_count": 9,
   "id": "1534f906-62a8-483c-bb3e-4866ec35d175",
   "metadata": {},
   "outputs": [],
   "source": [
    "# 数据日期是November 25 to December 03, 2017\n",
    "# 设置日期范围的起始和结束日期\n",
    "start_date = pd.to_datetime(\"2017-11-25\")\n",
    "end_date = pd.to_datetime(\"2017-12-03\")\n",
    "date_filtered_df = raw_df[(raw_df['timestamp'] >= start_date) & (raw_df['timestamp'] <= end_date)]"
   ]
  },
  {
   "cell_type": "code",
   "execution_count": 10,
   "id": "5a2fb578-54f9-4613-b3f0-c68131450215",
   "metadata": {},
   "outputs": [],
   "source": [
    "# 检测重复值       \n",
    "duplicate_rows = date_filtered_df.duplicated(keep=False)\n",
    "duplicate_df = date_filtered_df[duplicate_rows]"
   ]
  },
  {
   "cell_type": "code",
   "execution_count": 11,
   "id": "3a09dddc-fea3-4c43-a623-85ae760bf8e3",
   "metadata": {},
   "outputs": [
    {
     "name": "stdout",
     "output_type": "stream",
     "text": [
      "94\n"
     ]
    }
   ],
   "source": [
    "print(len(duplicate_df))\n",
    "# 因该是用户同一时间同样商品购买了多个，不做删除处理"
   ]
  },
  {
   "cell_type": "code",
   "execution_count": 12,
   "id": "1281479b-34b7-4c31-b35f-11bfb7f8d055",
   "metadata": {},
   "outputs": [
    {
     "name": "stderr",
     "output_type": "stream",
     "text": [
      "/var/folders/97/1wmfq3zd5vs1f80vgjcmklz40000gn/T/ipykernel_76242/270360324.py:1: SettingWithCopyWarning: \n",
      "A value is trying to be set on a copy of a slice from a DataFrame.\n",
      "Try using .loc[row_indexer,col_indexer] = value instead\n",
      "\n",
      "See the caveats in the documentation: https://pandas.pydata.org/pandas-docs/stable/user_guide/indexing.html#returning-a-view-versus-a-copy\n",
      "  date_filtered_df.loc[:, 'date'] = date_filtered_df['timestamp'].dt.date\n",
      "/var/folders/97/1wmfq3zd5vs1f80vgjcmklz40000gn/T/ipykernel_76242/270360324.py:2: SettingWithCopyWarning: \n",
      "A value is trying to be set on a copy of a slice from a DataFrame.\n",
      "Try using .loc[row_indexer,col_indexer] = value instead\n",
      "\n",
      "See the caveats in the documentation: https://pandas.pydata.org/pandas-docs/stable/user_guide/indexing.html#returning-a-view-versus-a-copy\n",
      "  date_filtered_df.loc[:, 'hour'] = date_filtered_df['timestamp'].dt.hour\n"
     ]
    }
   ],
   "source": [
    "date_filtered_df.loc[:, 'date'] = date_filtered_df['timestamp'].dt.date\n",
    "date_filtered_df.loc[:, 'hour'] = date_filtered_df['timestamp'].dt.hour"
   ]
  },
  {
   "cell_type": "code",
   "execution_count": 13,
   "id": "aca794d3-37fc-4eef-994c-7824b252c68c",
   "metadata": {},
   "outputs": [],
   "source": [
    "new_df = date_filtered_df.drop('timestamp', axis=1)"
   ]
  },
  {
   "cell_type": "code",
   "execution_count": 14,
   "id": "eaac67e3-243e-4de1-8a7a-ab9c92ea92e4",
   "metadata": {},
   "outputs": [
    {
     "data": {
      "text/html": [
       "<div>\n",
       "<style scoped>\n",
       "    .dataframe tbody tr th:only-of-type {\n",
       "        vertical-align: middle;\n",
       "    }\n",
       "\n",
       "    .dataframe tbody tr th {\n",
       "        vertical-align: top;\n",
       "    }\n",
       "\n",
       "    .dataframe thead th {\n",
       "        text-align: right;\n",
       "    }\n",
       "</style>\n",
       "<table border=\"1\" class=\"dataframe\">\n",
       "  <thead>\n",
       "    <tr style=\"text-align: right;\">\n",
       "      <th></th>\n",
       "      <th>user_id</th>\n",
       "      <th>item_id</th>\n",
       "      <th>category_id</th>\n",
       "      <th>behavior_type</th>\n",
       "      <th>date</th>\n",
       "      <th>hour</th>\n",
       "    </tr>\n",
       "  </thead>\n",
       "  <tbody>\n",
       "    <tr>\n",
       "      <th>99947278</th>\n",
       "      <td>990386</td>\n",
       "      <td>4233241</td>\n",
       "      <td>4244487</td>\n",
       "      <td>fav</td>\n",
       "      <td>2017-11-26</td>\n",
       "      <td>16</td>\n",
       "    </tr>\n",
       "  </tbody>\n",
       "</table>\n",
       "</div>"
      ],
      "text/plain": [
       "          user_id  item_id  category_id behavior_type        date  hour\n",
       "99947278   990386  4233241      4244487           fav  2017-11-26    16"
      ]
     },
     "execution_count": 14,
     "metadata": {},
     "output_type": "execute_result"
    }
   ],
   "source": [
    "new_df.sample()"
   ]
  },
  {
   "cell_type": "markdown",
   "id": "3f16690c-b1c1-4ac2-a3dd-b380fdda1617",
   "metadata": {},
   "source": [
    "## Part1. 流量分析  \n",
    "访问量(PV)：Page View, 基于用户每次对淘宝页面的刷新次数，用户每刷新一次页面或者打开新的页面就记录就算一次访问。  \n",
    "独立访问量(UV)：Unique Visitor，一个用户若多次访问淘宝只记录一次。"
   ]
  },
  {
   "cell_type": "code",
   "execution_count": 15,
   "id": "624810a2-ff3f-4ca8-bd1e-3c74c75be233",
   "metadata": {},
   "outputs": [],
   "source": [
    "pv_daily = new_df.groupby('date')['user_id'].count()"
   ]
  },
  {
   "cell_type": "code",
   "execution_count": 16,
   "id": "567977de-446f-495d-acf5-611390497629",
   "metadata": {},
   "outputs": [],
   "source": [
    "pv_daily = pv_daily.reset_index() \n",
    "pv_daily = pv_daily.rename(columns={'user_id':'pv_daily'})"
   ]
  },
  {
   "cell_type": "code",
   "execution_count": 17,
   "id": "834c80b8-b6c7-4056-b7c9-30b247635f6f",
   "metadata": {},
   "outputs": [
    {
     "data": {
      "text/html": [
       "<div>\n",
       "<style scoped>\n",
       "    .dataframe tbody tr th:only-of-type {\n",
       "        vertical-align: middle;\n",
       "    }\n",
       "\n",
       "    .dataframe tbody tr th {\n",
       "        vertical-align: top;\n",
       "    }\n",
       "\n",
       "    .dataframe thead th {\n",
       "        text-align: right;\n",
       "    }\n",
       "</style>\n",
       "<table border=\"1\" class=\"dataframe\">\n",
       "  <thead>\n",
       "    <tr style=\"text-align: right;\">\n",
       "      <th></th>\n",
       "      <th>date</th>\n",
       "      <th>pv_daily</th>\n",
       "    </tr>\n",
       "  </thead>\n",
       "  <tbody>\n",
       "    <tr>\n",
       "      <th>0</th>\n",
       "      <td>2017-11-25</td>\n",
       "      <td>10511605</td>\n",
       "    </tr>\n",
       "    <tr>\n",
       "      <th>1</th>\n",
       "      <td>2017-11-26</td>\n",
       "      <td>10571046</td>\n",
       "    </tr>\n",
       "    <tr>\n",
       "      <th>2</th>\n",
       "      <td>2017-11-27</td>\n",
       "      <td>10013457</td>\n",
       "    </tr>\n",
       "    <tr>\n",
       "      <th>3</th>\n",
       "      <td>2017-11-28</td>\n",
       "      <td>9884189</td>\n",
       "    </tr>\n",
       "    <tr>\n",
       "      <th>4</th>\n",
       "      <td>2017-11-29</td>\n",
       "      <td>10319066</td>\n",
       "    </tr>\n",
       "    <tr>\n",
       "      <th>5</th>\n",
       "      <td>2017-11-30</td>\n",
       "      <td>10541698</td>\n",
       "    </tr>\n",
       "    <tr>\n",
       "      <th>6</th>\n",
       "      <td>2017-12-01</td>\n",
       "      <td>11171515</td>\n",
       "    </tr>\n",
       "    <tr>\n",
       "      <th>7</th>\n",
       "      <td>2017-12-02</td>\n",
       "      <td>13940949</td>\n",
       "    </tr>\n",
       "    <tr>\n",
       "      <th>8</th>\n",
       "      <td>2017-12-03</td>\n",
       "      <td>130</td>\n",
       "    </tr>\n",
       "  </tbody>\n",
       "</table>\n",
       "</div>"
      ],
      "text/plain": [
       "         date  pv_daily\n",
       "0  2017-11-25  10511605\n",
       "1  2017-11-26  10571046\n",
       "2  2017-11-27  10013457\n",
       "3  2017-11-28   9884189\n",
       "4  2017-11-29  10319066\n",
       "5  2017-11-30  10541698\n",
       "6  2017-12-01  11171515\n",
       "7  2017-12-02  13940949\n",
       "8  2017-12-03       130"
      ]
     },
     "execution_count": 17,
     "metadata": {},
     "output_type": "execute_result"
    }
   ],
   "source": [
    "pv_daily"
   ]
  },
  {
   "cell_type": "code",
   "execution_count": 18,
   "id": "2a484692-f4cc-4b0b-8056-9aa88009bfcc",
   "metadata": {},
   "outputs": [
    {
     "data": {
      "image/png": "[encoded data removed]",
      "text/plain": [
       "<Figure size 1200x600 with 1 Axes>"
      ]
     },
     "metadata": {},
     "output_type": "display_data"
    }
   ],
   "source": [
    "# Plot the data using seaborn\n",
    "plt.figure(figsize=(12, 6))\n",
    "sns.lineplot(x='date', y='pv_daily', data=pv_daily, marker='o')\n",
    "plt.xlabel('Date')\n",
    "plt.ylabel('Daily Page Views')\n",
    "plt.title('Daily Page Views Over Time')\n",
    "plt.xticks(rotation=45)\n",
    "plt.show()"
   ]
  },
  {
   "cell_type": "code",
   "execution_count": null,
   "id": "7b91daf8-ab5e-4673-bca4-e4c51b309691",
   "metadata": {},
   "outputs": [],
   "source": []
  }
 ],
 "metadata": {
  "kernelspec": {
   "display_name": "Python 3 (ipykernel)",
   "language": "python",
   "name": "python3"
  },
  "language_info": {
   "codemirror_mode": {
    "name": "ipython",
    "version": 3
   },
   "file_extension": ".py",
   "mimetype": "text/x-python",
   "name": "python",
   "nbconvert_exporter": "python",
   "pygments_lexer": "ipython3",
   "version": "3.10.14"
  }
 },
 "nbformat": 4,
 "nbformat_minor": 5
}
